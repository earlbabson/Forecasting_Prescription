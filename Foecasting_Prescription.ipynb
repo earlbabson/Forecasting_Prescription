{
  "metadata": {
    "kernelspec": {
      "name": "python3",
      "display_name": "Python 3",
      "language": "python"
    },
    "language_info": {
      "name": "python",
      "version": "3.7.12",
      "mimetype": "text/x-python",
      "codemirror_mode": {
        "name": "ipython",
        "version": 3
      },
      "pygments_lexer": "ipython3",
      "nbconvert_exporter": "python",
      "file_extension": ".py"
    },
    "colab": {
      "provenance": []
    },
    "widgets": {
      "application/vnd.jupyter.widget-state+json": {
        "39c89984e2204144b474aef97346a41f": {
          "model_module": "@jupyter-widgets/controls",
          "model_name": "HBoxModel",
          "model_module_version": "1.5.0",
          "state": {
            "_dom_classes": [],
            "_model_module": "@jupyter-widgets/controls",
            "_model_module_version": "1.5.0",
            "_model_name": "HBoxModel",
            "_view_count": null,
            "_view_module": "@jupyter-widgets/controls",
            "_view_module_version": "1.5.0",
            "_view_name": "HBoxView",
            "box_style": "",
            "children": [
              "IPY_MODEL_ef81d03d7dad492d8e6a7e04cc2ce35e",
              "IPY_MODEL_b88e89d8e612448395f09f0f8399b1de",
              "IPY_MODEL_5e3174e138dc4cf5a1e3a41081cdcd48"
            ],
            "layout": "IPY_MODEL_d45708d1d8a1455cbe11b54cdc7e6294"
          }
        },
        "ef81d03d7dad492d8e6a7e04cc2ce35e": {
          "model_module": "@jupyter-widgets/controls",
          "model_name": "HTMLModel",
          "model_module_version": "1.5.0",
          "state": {
            "_dom_classes": [],
            "_model_module": "@jupyter-widgets/controls",
            "_model_module_version": "1.5.0",
            "_model_name": "HTMLModel",
            "_view_count": null,
            "_view_module": "@jupyter-widgets/controls",
            "_view_module_version": "1.5.0",
            "_view_name": "HTMLView",
            "description": "",
            "description_tooltip": null,
            "layout": "IPY_MODEL_0ed8523cb483449c957b6b6fb7e20fc1",
            "placeholder": "​",
            "style": "IPY_MODEL_4af7fb347c444ad18f80dc22db1b4c0d",
            "value": "100%"
          }
        },
        "b88e89d8e612448395f09f0f8399b1de": {
          "model_module": "@jupyter-widgets/controls",
          "model_name": "FloatProgressModel",
          "model_module_version": "1.5.0",
          "state": {
            "_dom_classes": [],
            "_model_module": "@jupyter-widgets/controls",
            "_model_module_version": "1.5.0",
            "_model_name": "FloatProgressModel",
            "_view_count": null,
            "_view_module": "@jupyter-widgets/controls",
            "_view_module_version": "1.5.0",
            "_view_name": "ProgressView",
            "bar_style": "success",
            "description": "",
            "description_tooltip": null,
            "layout": "IPY_MODEL_dfec02a319cb4794a42e1bae3bd3383b",
            "max": 625,
            "min": 0,
            "orientation": "horizontal",
            "style": "IPY_MODEL_93730d697f534deabc2d341adbc03537",
            "value": 625
          }
        },
        "5e3174e138dc4cf5a1e3a41081cdcd48": {
          "model_module": "@jupyter-widgets/controls",
          "model_name": "HTMLModel",
          "model_module_version": "1.5.0",
          "state": {
            "_dom_classes": [],
            "_model_module": "@jupyter-widgets/controls",
            "_model_module_version": "1.5.0",
            "_model_name": "HTMLModel",
            "_view_count": null,
            "_view_module": "@jupyter-widgets/controls",
            "_view_module_version": "1.5.0",
            "_view_name": "HTMLView",
            "description": "",
            "description_tooltip": null,
            "layout": "IPY_MODEL_54dcb12b3d954fe0a0f2184e4b7fb888",
            "placeholder": "​",
            "style": "IPY_MODEL_30a44d5d98c543f0910237f8b320ca69",
            "value": " 625/625 [1:25:52&lt;00:00, 20.77s/it]"
          }
        },
        "d45708d1d8a1455cbe11b54cdc7e6294": {
          "model_module": "@jupyter-widgets/base",
          "model_name": "LayoutModel",
          "model_module_version": "1.2.0",
          "state": {
            "_model_module": "@jupyter-widgets/base",
            "_model_module_version": "1.2.0",
            "_model_name": "LayoutModel",
            "_view_count": null,
            "_view_module": "@jupyter-widgets/base",
            "_view_module_version": "1.2.0",
            "_view_name": "LayoutView",
            "align_content": null,
            "align_items": null,
            "align_self": null,
            "border": null,
            "bottom": null,
            "display": null,
            "flex": null,
            "flex_flow": null,
            "grid_area": null,
            "grid_auto_columns": null,
            "grid_auto_flow": null,
            "grid_auto_rows": null,
            "grid_column": null,
            "grid_gap": null,
            "grid_row": null,
            "grid_template_areas": null,
            "grid_template_columns": null,
            "grid_template_rows": null,
            "height": null,
            "justify_content": null,
            "justify_items": null,
            "left": null,
            "margin": null,
            "max_height": null,
            "max_width": null,
            "min_height": null,
            "min_width": null,
            "object_fit": null,
            "object_position": null,
            "order": null,
            "overflow": null,
            "overflow_x": null,
            "overflow_y": null,
            "padding": null,
            "right": null,
            "top": null,
            "visibility": null,
            "width": null
          }
        },
        "0ed8523cb483449c957b6b6fb7e20fc1": {
          "model_module": "@jupyter-widgets/base",
          "model_name": "LayoutModel",
          "model_module_version": "1.2.0",
          "state": {
            "_model_module": "@jupyter-widgets/base",
            "_model_module_version": "1.2.0",
            "_model_name": "LayoutModel",
            "_view_count": null,
            "_view_module": "@jupyter-widgets/base",
            "_view_module_version": "1.2.0",
            "_view_name": "LayoutView",
            "align_content": null,
            "align_items": null,
            "align_self": null,
            "border": null,
            "bottom": null,
            "display": null,
            "flex": null,
            "flex_flow": null,
            "grid_area": null,
            "grid_auto_columns": null,
            "grid_auto_flow": null,
            "grid_auto_rows": null,
            "grid_column": null,
            "grid_gap": null,
            "grid_row": null,
            "grid_template_areas": null,
            "grid_template_columns": null,
            "grid_template_rows": null,
            "height": null,
            "justify_content": null,
            "justify_items": null,
            "left": null,
            "margin": null,
            "max_height": null,
            "max_width": null,
            "min_height": null,
            "min_width": null,
            "object_fit": null,
            "object_position": null,
            "order": null,
            "overflow": null,
            "overflow_x": null,
            "overflow_y": null,
            "padding": null,
            "right": null,
            "top": null,
            "visibility": null,
            "width": null
          }
        },
        "4af7fb347c444ad18f80dc22db1b4c0d": {
          "model_module": "@jupyter-widgets/controls",
          "model_name": "DescriptionStyleModel",
          "model_module_version": "1.5.0",
          "state": {
            "_model_module": "@jupyter-widgets/controls",
            "_model_module_version": "1.5.0",
            "_model_name": "DescriptionStyleModel",
            "_view_count": null,
            "_view_module": "@jupyter-widgets/base",
            "_view_module_version": "1.2.0",
            "_view_name": "StyleView",
            "description_width": ""
          }
        },
        "dfec02a319cb4794a42e1bae3bd3383b": {
          "model_module": "@jupyter-widgets/base",
          "model_name": "LayoutModel",
          "model_module_version": "1.2.0",
          "state": {
            "_model_module": "@jupyter-widgets/base",
            "_model_module_version": "1.2.0",
            "_model_name": "LayoutModel",
            "_view_count": null,
            "_view_module": "@jupyter-widgets/base",
            "_view_module_version": "1.2.0",
            "_view_name": "LayoutView",
            "align_content": null,
            "align_items": null,
            "align_self": null,
            "border": null,
            "bottom": null,
            "display": null,
            "flex": null,
            "flex_flow": null,
            "grid_area": null,
            "grid_auto_columns": null,
            "grid_auto_flow": null,
            "grid_auto_rows": null,
            "grid_column": null,
            "grid_gap": null,
            "grid_row": null,
            "grid_template_areas": null,
            "grid_template_columns": null,
            "grid_template_rows": null,
            "height": null,
            "justify_content": null,
            "justify_items": null,
            "left": null,
            "margin": null,
            "max_height": null,
            "max_width": null,
            "min_height": null,
            "min_width": null,
            "object_fit": null,
            "object_position": null,
            "order": null,
            "overflow": null,
            "overflow_x": null,
            "overflow_y": null,
            "padding": null,
            "right": null,
            "top": null,
            "visibility": null,
            "width": null
          }
        },
        "93730d697f534deabc2d341adbc03537": {
          "model_module": "@jupyter-widgets/controls",
          "model_name": "ProgressStyleModel",
          "model_module_version": "1.5.0",
          "state": {
            "_model_module": "@jupyter-widgets/controls",
            "_model_module_version": "1.5.0",
            "_model_name": "ProgressStyleModel",
            "_view_count": null,
            "_view_module": "@jupyter-widgets/base",
            "_view_module_version": "1.2.0",
            "_view_name": "StyleView",
            "bar_color": null,
            "description_width": ""
          }
        },
        "54dcb12b3d954fe0a0f2184e4b7fb888": {
          "model_module": "@jupyter-widgets/base",
          "model_name": "LayoutModel",
          "model_module_version": "1.2.0",
          "state": {
            "_model_module": "@jupyter-widgets/base",
            "_model_module_version": "1.2.0",
            "_model_name": "LayoutModel",
            "_view_count": null,
            "_view_module": "@jupyter-widgets/base",
            "_view_module_version": "1.2.0",
            "_view_name": "LayoutView",
            "align_content": null,
            "align_items": null,
            "align_self": null,
            "border": null,
            "bottom": null,
            "display": null,
            "flex": null,
            "flex_flow": null,
            "grid_area": null,
            "grid_auto_columns": null,
            "grid_auto_flow": null,
            "grid_auto_rows": null,
            "grid_column": null,
            "grid_gap": null,
            "grid_row": null,
            "grid_template_areas": null,
            "grid_template_columns": null,
            "grid_template_rows": null,
            "height": null,
            "justify_content": null,
            "justify_items": null,
            "left": null,
            "margin": null,
            "max_height": null,
            "max_width": null,
            "min_height": null,
            "min_width": null,
            "object_fit": null,
            "object_position": null,
            "order": null,
            "overflow": null,
            "overflow_x": null,
            "overflow_y": null,
            "padding": null,
            "right": null,
            "top": null,
            "visibility": null,
            "width": null
          }
        },
        "30a44d5d98c543f0910237f8b320ca69": {
          "model_module": "@jupyter-widgets/controls",
          "model_name": "DescriptionStyleModel",
          "model_module_version": "1.5.0",
          "state": {
            "_model_module": "@jupyter-widgets/controls",
            "_model_module_version": "1.5.0",
            "_model_name": "DescriptionStyleModel",
            "_view_count": null,
            "_view_module": "@jupyter-widgets/base",
            "_view_module_version": "1.2.0",
            "_view_name": "StyleView",
            "description_width": ""
          }
        }
      }
    }
  },
  "nbformat_minor": 5,
  "nbformat": 4,
  "cells": [
    {
      "cell_type": "markdown",
      "source": [
        "# Forecasting the number of antidiabetic drug prescriptions in Australia\n",
        "The goal of this project is to accurately predict the number of antidiabetic medications prescribed in Australia from 1991-2008. By solving this problem, pharmaceutical companies can better estimate output and avoid overproduction or shortages. The data used will come from the Australian Health Insurance Commission's records."
      ],
      "metadata": {
        "id": "0Sq27TJmxhIJ"
      },
      "id": "0Sq27TJmxhIJ"
    },
    {
      "cell_type": "code",
      "source": [
        "from sklearn.metrics import mean_squared_error, mean_absolute_error\n",
        "from statsmodels.graphics.tsaplots import plot_acf, plot_pacf\n",
        "from statsmodels.tsa.seasonal import seasonal_decompose, STL\n",
        "from statsmodels.stats.diagnostic import acorr_ljungbox\n",
        "from statsmodels.tsa.statespace.sarimax import SARIMAX\n",
        "from statsmodels.tsa.arima_process import ArmaProcess\n",
        "from statsmodels.graphics.gofplots import qqplot\n",
        "from statsmodels.tsa.stattools import adfuller\n",
        "from tqdm import tqdm_notebook\n",
        "from itertools import product\n",
        "from typing import Union\n",
        "\n",
        "import matplotlib.pyplot as plt\n",
        "import statsmodels.api as sm\n",
        "import pandas as pd\n",
        "import numpy as np\n",
        "\n",
        "import warnings\n",
        "warnings.filterwarnings('ignore')\n",
        "\n",
        "%matplotlib inline"
      ],
      "metadata": {
        "trusted": true,
        "id": "Q5ywUBvcxhJf"
      },
      "execution_count": 1,
      "outputs": [],
      "id": "Q5ywUBvcxhJf"
    },
    {
      "cell_type": "code",
      "source": [
        "# read the csv file \"AusAntidiabeticDrug.csv\" from the current working directory\n",
        "df = pd.read_csv('AusAntidiabeticDrug.csv')\n",
        "\n",
        "# display the first 10 rows of the dataframe\n",
        "df.head(10)\n",
        "\n",
        "\n"
      ],
      "metadata": {
        "id": "UxOhwKm7IpDq",
        "trusted": true,
        "colab": {
          "base_uri": "https://localhost:8080/",
          "height": 363
        },
        "outputId": "28a70ac2-6415-48dd-e748-e2a74f17e483"
      },
      "execution_count": 2,
      "outputs": [
        {
          "output_type": "execute_result",
          "data": {
            "text/plain": [
              "           ds         y\n",
              "0  1991-07-01  3.526591\n",
              "1  1991-08-01  3.180891\n",
              "2  1991-09-01  3.252221\n",
              "3  1991-10-01  3.611003\n",
              "4  1991-11-01  3.565869\n",
              "5  1991-12-01  4.306371\n",
              "6  1992-01-01  5.088335\n",
              "7  1992-02-01  2.814520\n",
              "8  1992-03-01  2.985811\n",
              "9  1992-04-01  3.204780"
            ],
            "text/html": [
              "\n",
              "  <div id=\"df-aa9532e2-9f10-4913-977e-46520b4f1e62\">\n",
              "    <div class=\"colab-df-container\">\n",
              "      <div>\n",
              "<style scoped>\n",
              "    .dataframe tbody tr th:only-of-type {\n",
              "        vertical-align: middle;\n",
              "    }\n",
              "\n",
              "    .dataframe tbody tr th {\n",
              "        vertical-align: top;\n",
              "    }\n",
              "\n",
              "    .dataframe thead th {\n",
              "        text-align: right;\n",
              "    }\n",
              "</style>\n",
              "<table border=\"1\" class=\"dataframe\">\n",
              "  <thead>\n",
              "    <tr style=\"text-align: right;\">\n",
              "      <th></th>\n",
              "      <th>ds</th>\n",
              "      <th>y</th>\n",
              "    </tr>\n",
              "  </thead>\n",
              "  <tbody>\n",
              "    <tr>\n",
              "      <th>0</th>\n",
              "      <td>1991-07-01</td>\n",
              "      <td>3.526591</td>\n",
              "    </tr>\n",
              "    <tr>\n",
              "      <th>1</th>\n",
              "      <td>1991-08-01</td>\n",
              "      <td>3.180891</td>\n",
              "    </tr>\n",
              "    <tr>\n",
              "      <th>2</th>\n",
              "      <td>1991-09-01</td>\n",
              "      <td>3.252221</td>\n",
              "    </tr>\n",
              "    <tr>\n",
              "      <th>3</th>\n",
              "      <td>1991-10-01</td>\n",
              "      <td>3.611003</td>\n",
              "    </tr>\n",
              "    <tr>\n",
              "      <th>4</th>\n",
              "      <td>1991-11-01</td>\n",
              "      <td>3.565869</td>\n",
              "    </tr>\n",
              "    <tr>\n",
              "      <th>5</th>\n",
              "      <td>1991-12-01</td>\n",
              "      <td>4.306371</td>\n",
              "    </tr>\n",
              "    <tr>\n",
              "      <th>6</th>\n",
              "      <td>1992-01-01</td>\n",
              "      <td>5.088335</td>\n",
              "    </tr>\n",
              "    <tr>\n",
              "      <th>7</th>\n",
              "      <td>1992-02-01</td>\n",
              "      <td>2.814520</td>\n",
              "    </tr>\n",
              "    <tr>\n",
              "      <th>8</th>\n",
              "      <td>1992-03-01</td>\n",
              "      <td>2.985811</td>\n",
              "    </tr>\n",
              "    <tr>\n",
              "      <th>9</th>\n",
              "      <td>1992-04-01</td>\n",
              "      <td>3.204780</td>\n",
              "    </tr>\n",
              "  </tbody>\n",
              "</table>\n",
              "</div>\n",
              "      <button class=\"colab-df-convert\" onclick=\"convertToInteractive('df-aa9532e2-9f10-4913-977e-46520b4f1e62')\"\n",
              "              title=\"Convert this dataframe to an interactive table.\"\n",
              "              style=\"display:none;\">\n",
              "        \n",
              "  <svg xmlns=\"http://www.w3.org/2000/svg\" height=\"24px\"viewBox=\"0 0 24 24\"\n",
              "       width=\"24px\">\n",
              "    <path d=\"M0 0h24v24H0V0z\" fill=\"none\"/>\n",
              "    <path d=\"M18.56 5.44l.94 2.06.94-2.06 2.06-.94-2.06-.94-.94-2.06-.94 2.06-2.06.94zm-11 1L8.5 8.5l.94-2.06 2.06-.94-2.06-.94L8.5 2.5l-.94 2.06-2.06.94zm10 10l.94 2.06.94-2.06 2.06-.94-2.06-.94-.94-2.06-.94 2.06-2.06.94z\"/><path d=\"M17.41 7.96l-1.37-1.37c-.4-.4-.92-.59-1.43-.59-.52 0-1.04.2-1.43.59L10.3 9.45l-7.72 7.72c-.78.78-.78 2.05 0 2.83L4 21.41c.39.39.9.59 1.41.59.51 0 1.02-.2 1.41-.59l7.78-7.78 2.81-2.81c.8-.78.8-2.07 0-2.86zM5.41 20L4 18.59l7.72-7.72 1.47 1.35L5.41 20z\"/>\n",
              "  </svg>\n",
              "      </button>\n",
              "      \n",
              "  <style>\n",
              "    .colab-df-container {\n",
              "      display:flex;\n",
              "      flex-wrap:wrap;\n",
              "      gap: 12px;\n",
              "    }\n",
              "\n",
              "    .colab-df-convert {\n",
              "      background-color: #E8F0FE;\n",
              "      border: none;\n",
              "      border-radius: 50%;\n",
              "      cursor: pointer;\n",
              "      display: none;\n",
              "      fill: #1967D2;\n",
              "      height: 32px;\n",
              "      padding: 0 0 0 0;\n",
              "      width: 32px;\n",
              "    }\n",
              "\n",
              "    .colab-df-convert:hover {\n",
              "      background-color: #E2EBFA;\n",
              "      box-shadow: 0px 1px 2px rgba(60, 64, 67, 0.3), 0px 1px 3px 1px rgba(60, 64, 67, 0.15);\n",
              "      fill: #174EA6;\n",
              "    }\n",
              "\n",
              "    [theme=dark] .colab-df-convert {\n",
              "      background-color: #3B4455;\n",
              "      fill: #D2E3FC;\n",
              "    }\n",
              "\n",
              "    [theme=dark] .colab-df-convert:hover {\n",
              "      background-color: #434B5C;\n",
              "      box-shadow: 0px 1px 3px 1px rgba(0, 0, 0, 0.15);\n",
              "      filter: drop-shadow(0px 1px 2px rgba(0, 0, 0, 0.3));\n",
              "      fill: #FFFFFF;\n",
              "    }\n",
              "  </style>\n",
              "\n",
              "      <script>\n",
              "        const buttonEl =\n",
              "          document.querySelector('#df-aa9532e2-9f10-4913-977e-46520b4f1e62 button.colab-df-convert');\n",
              "        buttonEl.style.display =\n",
              "          google.colab.kernel.accessAllowed ? 'block' : 'none';\n",
              "\n",
              "        async function convertToInteractive(key) {\n",
              "          const element = document.querySelector('#df-aa9532e2-9f10-4913-977e-46520b4f1e62');\n",
              "          const dataTable =\n",
              "            await google.colab.kernel.invokeFunction('convertToInteractive',\n",
              "                                                     [key], {});\n",
              "          if (!dataTable) return;\n",
              "\n",
              "          const docLinkHtml = 'Like what you see? Visit the ' +\n",
              "            '<a target=\"_blank\" href=https://colab.research.google.com/notebooks/data_table.ipynb>data table notebook</a>'\n",
              "            + ' to learn more about interactive tables.';\n",
              "          element.innerHTML = '';\n",
              "          dataTable['output_type'] = 'display_data';\n",
              "          await google.colab.output.renderOutput(dataTable, element);\n",
              "          const docLink = document.createElement('div');\n",
              "          docLink.innerHTML = docLinkHtml;\n",
              "          element.appendChild(docLink);\n",
              "        }\n",
              "      </script>\n",
              "    </div>\n",
              "  </div>\n",
              "  "
            ]
          },
          "metadata": {},
          "execution_count": 2
        }
      ],
      "id": "UxOhwKm7IpDq"
    },
    {
      "cell_type": "code",
      "source": [
        "# display the last 10 rows of the dataframe\n",
        "df.tail(10)\n"
      ],
      "metadata": {
        "id": "QapByW5dIpD7",
        "trusted": true,
        "colab": {
          "base_uri": "https://localhost:8080/",
          "height": 363
        },
        "outputId": "cac052d9-9fd9-4b2b-9a7a-f8ad612e5fe8"
      },
      "execution_count": 3,
      "outputs": [
        {
          "output_type": "execute_result",
          "data": {
            "text/plain": [
              "             ds          y\n",
              "194  2007-09-01  22.930357\n",
              "195  2007-10-01  23.263340\n",
              "196  2007-11-01  25.250030\n",
              "197  2007-12-01  25.806090\n",
              "198  2008-01-01  29.665356\n",
              "199  2008-02-01  21.654285\n",
              "200  2008-03-01  18.264945\n",
              "201  2008-04-01  23.107677\n",
              "202  2008-05-01  22.912510\n",
              "203  2008-06-01  19.431740"
            ],
            "text/html": [
              "\n",
              "  <div id=\"df-c4f42de9-28e1-4040-a4a4-1aee3c9faae2\">\n",
              "    <div class=\"colab-df-container\">\n",
              "      <div>\n",
              "<style scoped>\n",
              "    .dataframe tbody tr th:only-of-type {\n",
              "        vertical-align: middle;\n",
              "    }\n",
              "\n",
              "    .dataframe tbody tr th {\n",
              "        vertical-align: top;\n",
              "    }\n",
              "\n",
              "    .dataframe thead th {\n",
              "        text-align: right;\n",
              "    }\n",
              "</style>\n",
              "<table border=\"1\" class=\"dataframe\">\n",
              "  <thead>\n",
              "    <tr style=\"text-align: right;\">\n",
              "      <th></th>\n",
              "      <th>ds</th>\n",
              "      <th>y</th>\n",
              "    </tr>\n",
              "  </thead>\n",
              "  <tbody>\n",
              "    <tr>\n",
              "      <th>194</th>\n",
              "      <td>2007-09-01</td>\n",
              "      <td>22.930357</td>\n",
              "    </tr>\n",
              "    <tr>\n",
              "      <th>195</th>\n",
              "      <td>2007-10-01</td>\n",
              "      <td>23.263340</td>\n",
              "    </tr>\n",
              "    <tr>\n",
              "      <th>196</th>\n",
              "      <td>2007-11-01</td>\n",
              "      <td>25.250030</td>\n",
              "    </tr>\n",
              "    <tr>\n",
              "      <th>197</th>\n",
              "      <td>2007-12-01</td>\n",
              "      <td>25.806090</td>\n",
              "    </tr>\n",
              "    <tr>\n",
              "      <th>198</th>\n",
              "      <td>2008-01-01</td>\n",
              "      <td>29.665356</td>\n",
              "    </tr>\n",
              "    <tr>\n",
              "      <th>199</th>\n",
              "      <td>2008-02-01</td>\n",
              "      <td>21.654285</td>\n",
              "    </tr>\n",
              "    <tr>\n",
              "      <th>200</th>\n",
              "      <td>2008-03-01</td>\n",
              "      <td>18.264945</td>\n",
              "    </tr>\n",
              "    <tr>\n",
              "      <th>201</th>\n",
              "      <td>2008-04-01</td>\n",
              "      <td>23.107677</td>\n",
              "    </tr>\n",
              "    <tr>\n",
              "      <th>202</th>\n",
              "      <td>2008-05-01</td>\n",
              "      <td>22.912510</td>\n",
              "    </tr>\n",
              "    <tr>\n",
              "      <th>203</th>\n",
              "      <td>2008-06-01</td>\n",
              "      <td>19.431740</td>\n",
              "    </tr>\n",
              "  </tbody>\n",
              "</table>\n",
              "</div>\n",
              "      <button class=\"colab-df-convert\" onclick=\"convertToInteractive('df-c4f42de9-28e1-4040-a4a4-1aee3c9faae2')\"\n",
              "              title=\"Convert this dataframe to an interactive table.\"\n",
              "              style=\"display:none;\">\n",
              "        \n",
              "  <svg xmlns=\"http://www.w3.org/2000/svg\" height=\"24px\"viewBox=\"0 0 24 24\"\n",
              "       width=\"24px\">\n",
              "    <path d=\"M0 0h24v24H0V0z\" fill=\"none\"/>\n",
              "    <path d=\"M18.56 5.44l.94 2.06.94-2.06 2.06-.94-2.06-.94-.94-2.06-.94 2.06-2.06.94zm-11 1L8.5 8.5l.94-2.06 2.06-.94-2.06-.94L8.5 2.5l-.94 2.06-2.06.94zm10 10l.94 2.06.94-2.06 2.06-.94-2.06-.94-.94-2.06-.94 2.06-2.06.94z\"/><path d=\"M17.41 7.96l-1.37-1.37c-.4-.4-.92-.59-1.43-.59-.52 0-1.04.2-1.43.59L10.3 9.45l-7.72 7.72c-.78.78-.78 2.05 0 2.83L4 21.41c.39.39.9.59 1.41.59.51 0 1.02-.2 1.41-.59l7.78-7.78 2.81-2.81c.8-.78.8-2.07 0-2.86zM5.41 20L4 18.59l7.72-7.72 1.47 1.35L5.41 20z\"/>\n",
              "  </svg>\n",
              "      </button>\n",
              "      \n",
              "  <style>\n",
              "    .colab-df-container {\n",
              "      display:flex;\n",
              "      flex-wrap:wrap;\n",
              "      gap: 12px;\n",
              "    }\n",
              "\n",
              "    .colab-df-convert {\n",
              "      background-color: #E8F0FE;\n",
              "      border: none;\n",
              "      border-radius: 50%;\n",
              "      cursor: pointer;\n",
              "      display: none;\n",
              "      fill: #1967D2;\n",
              "      height: 32px;\n",
              "      padding: 0 0 0 0;\n",
              "      width: 32px;\n",
              "    }\n",
              "\n",
              "    .colab-df-convert:hover {\n",
              "      background-color: #E2EBFA;\n",
              "      box-shadow: 0px 1px 2px rgba(60, 64, 67, 0.3), 0px 1px 3px 1px rgba(60, 64, 67, 0.15);\n",
              "      fill: #174EA6;\n",
              "    }\n",
              "\n",
              "    [theme=dark] .colab-df-convert {\n",
              "      background-color: #3B4455;\n",
              "      fill: #D2E3FC;\n",
              "    }\n",
              "\n",
              "    [theme=dark] .colab-df-convert:hover {\n",
              "      background-color: #434B5C;\n",
              "      box-shadow: 0px 1px 3px 1px rgba(0, 0, 0, 0.15);\n",
              "      filter: drop-shadow(0px 1px 2px rgba(0, 0, 0, 0.3));\n",
              "      fill: #FFFFFF;\n",
              "    }\n",
              "  </style>\n",
              "\n",
              "      <script>\n",
              "        const buttonEl =\n",
              "          document.querySelector('#df-c4f42de9-28e1-4040-a4a4-1aee3c9faae2 button.colab-df-convert');\n",
              "        buttonEl.style.display =\n",
              "          google.colab.kernel.accessAllowed ? 'block' : 'none';\n",
              "\n",
              "        async function convertToInteractive(key) {\n",
              "          const element = document.querySelector('#df-c4f42de9-28e1-4040-a4a4-1aee3c9faae2');\n",
              "          const dataTable =\n",
              "            await google.colab.kernel.invokeFunction('convertToInteractive',\n",
              "                                                     [key], {});\n",
              "          if (!dataTable) return;\n",
              "\n",
              "          const docLinkHtml = 'Like what you see? Visit the ' +\n",
              "            '<a target=\"_blank\" href=https://colab.research.google.com/notebooks/data_table.ipynb>data table notebook</a>'\n",
              "            + ' to learn more about interactive tables.';\n",
              "          element.innerHTML = '';\n",
              "          dataTable['output_type'] = 'display_data';\n",
              "          await google.colab.output.renderOutput(dataTable, element);\n",
              "          const docLink = document.createElement('div');\n",
              "          docLink.innerHTML = docLinkHtml;\n",
              "          element.appendChild(docLink);\n",
              "        }\n",
              "      </script>\n",
              "    </div>\n",
              "  </div>\n",
              "  "
            ]
          },
          "metadata": {},
          "execution_count": 3
        }
      ],
      "id": "QapByW5dIpD7"
    },
    {
      "cell_type": "code",
      "source": [
        "# get the number of rows and columns of the dataframe\n",
        "df.shape\n"
      ],
      "metadata": {
        "id": "tYLVGvnwIpEA",
        "trusted": true,
        "colab": {
          "base_uri": "https://localhost:8080/"
        },
        "outputId": "f8259858-8333-4b5d-e101-aeffbdb2f591"
      },
      "execution_count": 4,
      "outputs": [
        {
          "output_type": "execute_result",
          "data": {
            "text/plain": [
              "(204, 2)"
            ]
          },
          "metadata": {},
          "execution_count": 4
        }
      ],
      "id": "tYLVGvnwIpEA"
    },
    {
      "cell_type": "markdown",
      "source": [
        "## Visualization "
      ],
      "metadata": {
        "id": "DKcFbXuzIpEE"
      },
      "id": "DKcFbXuzIpEE"
    },
    {
      "cell_type": "code",
      "source": [
        "# initialize the figure and axis objects\n",
        "fig, ax = plt.subplots()\n",
        "\n",
        "# plot the y column from the dataframe on the axis\n",
        "ax.plot(df.y)\n",
        "\n",
        "# set the x-axis label\n",
        "ax.set_xlabel('Date')\n",
        "\n",
        "# set the y-axis label\n",
        "ax.set_ylabel('Number of anti-diabetic drug prescriptions')\n",
        "\n",
        "# set the x-axis tick locations and labels\n",
        "plt.xticks(np.arange(6, 203, 12), np.arange(1992, 2009, 1))\n",
        "\n",
        "# format the x-axis tick labels\n",
        "fig.autofmt_xdate()\n",
        "\n",
        "# adjust the subplot layout\n",
        "plt.tight_layout()\n"
      ],
      "metadata": {
        "id": "ixVrNNoWIpEH",
        "trusted": true,
        "colab": {
          "base_uri": "https://localhost:8080/",
          "height": 289
        },
        "outputId": "385e669d-f2eb-4a96-e435-def216e48781"
      },
      "execution_count": 5,
      "outputs": [
        {
          "output_type": "display_data",
          "data": {
            "text/plain": [
              "<Figure size 432x288 with 1 Axes>"
            ],
            "image/png": "[encoded data removed]"
          },
          "metadata": {
            "needs_background": "light"
          }
        }
      ],
      "id": "ixVrNNoWIpEH"
    },
    {
      "cell_type": "markdown",
      "source": [
        "In the figure, we see a clear trend in the time series, as the number of prescriptions\n",
        "increases over time. Furthermore, we observe strong seasonality, as each year seems\n",
        "to start at a low value and end at a high value.\n",
        "\n",
        "The goal is to forecast 12 months of antidiabetic drug prescriptions using the last 36 months of data as a test set. To do so, we will visualize the time series and use time series decomposition to extract trend and seasonal components. We then need to apply transformations in order to make it stationary, set values for d and D, m, and find the optimal (p,d,q)(P,D,Q)m parameters. After validating our model with the residual analysis we can perform rolling forecasts for 12 months on the test set. Finally, we need to compare our model's performance with an appropriate baseline and error metric in order to decide whether or not it should be used."
      ],
      "metadata": {
        "id": "AbzFub3wxhLi"
      },
      "id": "AbzFub3wxhLi"
    },
    {
      "cell_type": "markdown",
      "source": [
        "## Exploration "
      ],
      "metadata": {
        "id": "Gih5PI1DIpEX"
      },
      "id": "Gih5PI1DIpEX"
    },
    {
      "cell_type": "code",
      "source": [
        "# perform the STL decomposition on the y column of the dataframe\n",
        "decomposition = STL(df.y, period=12).fit()\n",
        "\n",
        "# initialize the figure and axis objects (4 rows, 1 column, shared x-axis)\n",
        "fig, (ax1, ax2, ax3, ax4) = plt.subplots(nrows=4, ncols=1, sharex=True, figsize=(10,8))\n",
        "\n",
        "# plot the observed values on ax1\n",
        "ax1.plot(decomposition.observed)\n",
        "ax1.set_ylabel('Observed')\n",
        "\n",
        "# plot the trend on ax2\n",
        "ax2.plot(decomposition.trend)\n",
        "ax2.set_ylabel('Trend')\n",
        "\n",
        "# plot the seasonal component on ax3\n",
        "ax3.plot(decomposition.seasonal)\n",
        "ax3.set_ylabel('Seasonal')\n",
        "\n",
        "# plot the residuals on ax4\n",
        "ax4.plot(decomposition.resid)\n",
        "ax4.set_ylabel('Residuals')\n",
        "\n",
        "# set the x-axis tick locations and labels\n",
        "plt.xticks(np.arange(6, 203, 12), np.arange(1992, 2009, 1))\n",
        "\n",
        "# format the x-axis tick labels\n",
        "fig.autofmt_xdate()\n",
        "\n",
        "# adjust the subplot layout\n",
        "plt.tight_layout()\n"
      ],
      "metadata": {
        "id": "QMjBuz2GIpEa",
        "trusted": true,
        "colab": {
          "base_uri": "https://localhost:8080/",
          "height": 584
        },
        "outputId": "a50c7a5f-f10e-4764-dda5-8467ecdcc155"
      },
      "execution_count": 6,
      "outputs": [
        {
          "output_type": "display_data",
          "data": {
            "text/plain": [
              "<Figure size 720x576 with 4 Axes>"
            ],
            "image/png": "[encoded data removed]"
          },
          "metadata": {
            "needs_background": "light"
          }
        }
      ],
      "id": "QMjBuz2GIpEa"
    },
    {
      "cell_type": "markdown",
      "source": [
        "Time series decomposition on the antidiabetic drug prescriptions dataset. The first plot shows the observed data. The second plot shows the trend component, which tells us that the number of antidiabetic drug prescriptions is increasing over time. The third plot shows the seasonal component, where we can see a repeating pattern over time, indicating the presence of seasonality. The last plot shows the residuals, which are variations that are not explained by the trend of the seasonal component.\n",
        "\n",
        "From the result shown, it is clear that a SARIMA(p,d,q) (P,D,Q)m model would be the optimal solution for forecasting this time series. We have a trend as well as clear seasonality."
      ],
      "metadata": {
        "id": "3vDeyXYzxhL_"
      },
      "id": "3vDeyXYzxhL_"
    },
    {
      "cell_type": "markdown",
      "source": [
        "## Modeling \n",
        "To start our modeling,first determine\n",
        "whether the series is stationary using the augmented Dickey-Fuller (ADF) test."
      ],
      "metadata": {
        "id": "rDglI7FKIpEk"
      },
      "id": "rDglI7FKIpEk"
    },
    {
      "cell_type": "code",
      "source": [
        "# perform the Augmented Dickey-Fuller test on the y column of the dataframe\n",
        "ad_fuller_result = adfuller(df.y)\n",
        "\n",
        "# extract and print the ADF statistic and p-value from the results\n",
        "print(f'ADF Statistic: {ad_fuller_result[0]}')\n",
        "print(f'p-value: {ad_fuller_result[1]}')\n"
      ],
      "metadata": {
        "id": "fIcwm3XyIpEn",
        "trusted": true,
        "colab": {
          "base_uri": "https://localhost:8080/"
        },
        "outputId": "331997c5-27d1-4274-b1e7-c526595e5be8"
      },
      "execution_count": 7,
      "outputs": [
        {
          "output_type": "stream",
          "name": "stdout",
          "text": [
            "ADF Statistic: 3.1451856893067363\n",
            "p-value: 1.0\n"
          ]
        }
      ],
      "id": "fIcwm3XyIpEn"
    },
    {
      "cell_type": "markdown",
      "source": [
        "This returns a p-value of 1.0, meaning that we cannot reject the null hypothesis, and\n",
        "we conclude that the series is not stationary. Thus, we must apply transformations to\n",
        "make it stationary."
      ],
      "metadata": {
        "id": "vhQnRcmXxhON"
      },
      "id": "vhQnRcmXxhON"
    },
    {
      "cell_type": "code",
      "source": [
        "# calculate the first difference of the y column of the dataframe\n",
        "y_diff = np.diff(df.y, n=1)\n",
        "\n",
        "# perform the Augmented Dickey-Fuller test on the first difference of y\n",
        "ad_fuller_result = adfuller(y_diff)\n",
        "\n",
        "# extract and print the ADF statistic and p-value from the results\n",
        "print(f'ADF Statistic: {ad_fuller_result[0]}')\n",
        "print(f'p-value: {ad_fuller_result[1]}')\n"
      ],
      "metadata": {
        "id": "ixZDLzTJIpEs",
        "trusted": true,
        "colab": {
          "base_uri": "https://localhost:8080/"
        },
        "outputId": "dc8781ed-13a0-4b38-d689-80868a3a76f5"
      },
      "execution_count": 8,
      "outputs": [
        {
          "output_type": "stream",
          "name": "stdout",
          "text": [
            "ADF Statistic: -2.4951721474497512\n",
            "p-value: 0.11665341686468494\n"
          ]
        }
      ],
      "id": "ixZDLzTJIpEs"
    },
    {
      "cell_type": "markdown",
      "source": [
        "This returns a p-value of 0.12. Again, the p-value is greater than 0.05, meaning that the\n",
        "series is not stationary. Let’s try applying a seasonal difference, since we noticed a\n",
        "strong seasonal pattern in the data. "
      ],
      "metadata": {
        "id": "sxiqp_FWxhOe"
      },
      "id": "sxiqp_FWxhOe"
    },
    {
      "cell_type": "markdown",
      "source": [
        "Recall that we have monthly data, meaning that\n",
        "m = 12. Thus, a seasonal difference subtracts values that are 12 timesteps apart."
      ],
      "metadata": {
        "id": "Ja54WBt9xhOm"
      },
      "id": "Ja54WBt9xhOm"
    },
    {
      "cell_type": "code",
      "source": [
        "# calculate the first difference of the y column of the dataframe\n",
        "y_diff = np.diff(df.y, n=1)\n",
        "\n",
        "# calculate the seasonal difference of the first difference of y\n",
        "y_diff_seasonal_diff = np.diff(y_diff, n=12)\n",
        "\n",
        "# perform the Augmented Dickey-Fuller test on the seasonal difference of the first difference of y\n",
        "ad_fuller_result = adfuller(y_diff_seasonal_diff)\n",
        "\n",
        "# extract and print the ADF statistic and p-value from the results\n",
        "print(f'ADF Statistic: {ad_fuller_result[0]}')\n",
        "print(f'p-value: {ad_fuller_result[1]}')\n"
      ],
      "metadata": {
        "id": "5IrDXZD4IpEx",
        "trusted": true,
        "colab": {
          "base_uri": "https://localhost:8080/"
        },
        "outputId": "df1e3b12-4e26-482e-cd93-a6d97f6f66a7"
      },
      "execution_count": 9,
      "outputs": [
        {
          "output_type": "stream",
          "name": "stdout",
          "text": [
            "ADF Statistic: -19.848440097482005\n",
            "p-value: 0.0\n"
          ]
        }
      ],
      "id": "5IrDXZD4IpEx"
    },
    {
      "cell_type": "markdown",
      "source": [
        "The returned p-value is 0.0. Thus, we can reject the null hypothesis and conclude that\n",
        "our time series is stationary."
      ],
      "metadata": {
        "id": "jcz5nTS8xhOy"
      },
      "id": "jcz5nTS8xhOy"
    },
    {
      "cell_type": "markdown",
      "source": [],
      "metadata": {
        "id": "5Txeyn2oIpE2"
      },
      "id": "5Txeyn2oIpE2"
    },
    {
      "cell_type": "markdown",
      "source": [
        "### Train/test split "
      ],
      "metadata": {
        "id": "1llwjawcIpE6"
      },
      "id": "1llwjawcIpE6"
    },
    {
      "cell_type": "markdown",
      "source": [
        "We have established that our model will be a SARIMA(p,1,q)(P,1,Q)12 model. Now we\n",
        "need to find the optimal values of p, q, P, and Q. This is the model selection step where\n",
        "we choose the parameters that minimize the Akaike information criterion (AIC).\n",
        "To do so, we’ll first split the data into train and test sets. The test set will consist of the last 36 months of data."
      ],
      "metadata": {
        "id": "UloPohhjxhPK"
      },
      "id": "UloPohhjxhPK"
    },
    {
      "cell_type": "code",
      "source": [
        "# split the y column of the dataframe into a training set and a test set\n",
        "train = df.y[:168]\n",
        "test = df.y[168:]\n",
        "\n",
        "# print the length of the test set\n",
        "print(len(test))\n"
      ],
      "metadata": {
        "id": "5G_RXkMbIpE8",
        "trusted": true,
        "colab": {
          "base_uri": "https://localhost:8080/"
        },
        "outputId": "71e241df-9a5e-4c3e-cc19-57658ce46ce3"
      },
      "execution_count": 10,
      "outputs": [
        {
          "output_type": "stream",
          "name": "stdout",
          "text": [
            "36\n"
          ]
        }
      ],
      "id": "5G_RXkMbIpE8"
    },
    {
      "cell_type": "code",
      "source": [
        "# create a plot of the y column of the dataframe\n",
        "fig, ax = plt.subplots()\n",
        "\n",
        "ax.plot(df.y)\n",
        "ax.set_xlabel('Date')\n",
        "ax.set_ylabel('Number of anti-diabetic drug prescriptions')\n",
        "\n",
        "# add a shaded area to the plot to indicate the test set\n",
        "ax.axvspan(168, 204, color='#808080', alpha=0.2)\n",
        "\n",
        "# set the x-axis tick marks and labels\n",
        "plt.xticks(np.arange(6, 203, 12), np.arange(1992, 2009, 1))\n",
        "\n",
        "# format the x-axis tick labels\n",
        "fig.autofmt_xdate()\n",
        "\n",
        "# adjust the layout of the plot\n",
        "plt.tight_layout()\n"
      ],
      "metadata": {
        "id": "_zUPeIlFIpFE",
        "trusted": true,
        "colab": {
          "base_uri": "https://localhost:8080/",
          "height": 289
        },
        "outputId": "6f444023-f4dc-45d0-99ce-631029410e5a"
      },
      "execution_count": 11,
      "outputs": [
        {
          "output_type": "display_data",
          "data": {
            "text/plain": [
              "<Figure size 432x288 with 1 Axes>"
            ],
            "image/png": "[encoded data removed]"
          },
          "metadata": {
            "needs_background": "light"
          }
        }
      ],
      "id": "_zUPeIlFIpFE"
    },
    {
      "cell_type": "markdown",
      "source": [
        "With our split done, we can now use the optimize_SARIMAX function to find the values\n",
        "of p, q, P, and Q that minimize the AIC. Note that we can use optimize_SARIMAX\n",
        "here because SARIMA is a special case of the more general SARIMAX model."
      ],
      "metadata": {
        "id": "9kK-xEEdxhPj"
      },
      "id": "9kK-xEEdxhPj"
    },
    {
      "cell_type": "markdown",
      "source": [
        "### SARIMA(p,1,q)(P,1,Q)<sub>12<sub> "
      ],
      "metadata": {
        "id": "pVbqnXXPIpFV"
      },
      "id": "pVbqnXXPIpFV"
    },
    {
      "cell_type": "code",
      "source": [
        "from typing import Union\n",
        "from tqdm import tqdm_notebook\n",
        "from statsmodels.tsa.statespace.sarimax import SARIMAX\n",
        "\n",
        "def optimize_SARIMAX(endog: Union[pd.Series, list], exog: Union[pd.Series, list], order_list: list, d: int, D: int, s: int) -> pd.DataFrame:\n",
        "    \"\"\"\n",
        "    Optimize SARIMAX models for a given time series data.\n",
        "\n",
        "    Parameters:\n",
        "        endog (Union[pd.Series, list]): Endogenous data.\n",
        "        exog (Union[pd.Series, list]): Exogenous data.\n",
        "        order_list (list): List of order parameters (p, q, P, Q).\n",
        "        d (int): Non-seasonal difference order.\n",
        "        D (int): Seasonal difference order.\n",
        "        s (int): Seasonality.\n",
        "\n",
        "    Returns:\n",
        "        pd.DataFrame: DataFrame containing the best SARIMAX models, sorted by AIC.\n",
        "    \"\"\"\n",
        "    # Store the results of the SARIMAX models\n",
        "    results = []\n",
        "    \n",
        "    # Loop over each order in order_list\n",
        "    for order in tqdm_notebook(order_list):\n",
        "        try: \n",
        "            # Fit the SARIMAX model with the given order and seasonal parameters\n",
        "            model = SARIMAX(\n",
        "                endog,\n",
        "                exog,\n",
        "                order=(order[0], d, order[1]),\n",
        "                seasonal_order=(order[2], D, order[3], s),\n",
        "                simple_differencing=False).fit(disp=False)\n",
        "        except:\n",
        "            # Skip the iteration if the model fails to fit\n",
        "            continue\n",
        "            \n",
        "        # Store the AIC of the model\n",
        "        aic = model.aic\n",
        "        results.append([order, model.aic])\n",
        "        \n",
        "    # Create a DataFrame from the results\n",
        "    result_df = pd.DataFrame(results)\n",
        "    result_df.columns = ['(p,q,P,Q)', 'AIC']\n",
        "    \n",
        "    # Sort the DataFrame by AIC in ascending order (lower AIC is better)\n",
        "    result_df = result_df.sort_values(by='AIC', ascending=True).reset_index(drop=True)\n",
        "    \n",
        "    return result_df\n"
      ],
      "metadata": {
        "id": "U7FBAYyeIpFX",
        "trusted": true
      },
      "execution_count": 12,
      "outputs": [],
      "id": "U7FBAYyeIpFX"
    },
    {
      "cell_type": "markdown",
      "source": [
        "With the function defined, we can now decide on the range of values to try for p, q, P,\n",
        "and Q. Then we’ll generate a list of unique combinations of parameters."
      ],
      "metadata": {
        "id": "MeiWv5j7xhP9"
      },
      "id": "MeiWv5j7xhP9"
    },
    {
      "cell_type": "code",
      "source": [
        "# Define the range of possible values for each order parameter\n",
        "ps = range(0, 5) # p - Autoregression order\n",
        "qs = range(0, 5) # q - Moving average order\n",
        "Ps = range(0, 5) # P - Seasonal autoregression order\n",
        "Qs = range(0, 5) # Q - Seasonal moving average order\n",
        "\n",
        "# Generate all possible combinations of order parameters\n",
        "order_list = list(product(ps, qs, Ps, Qs))\n",
        "\n",
        "# Set the seasonal difference order (d)\n",
        "d = 1\n",
        "# Set the seasonal difference order (D)\n",
        "D = 1\n",
        "# Set the seasonality (s)\n",
        "s = 12\n",
        "\n"
      ],
      "metadata": {
        "id": "9LqMvdlRIpFc",
        "trusted": true
      },
      "execution_count": 27,
      "outputs": [],
      "id": "9LqMvdlRIpFc"
    },
    {
      "cell_type": "code",
      "source": [
        "# Call the optimize_SARIMAX function with the given arguments\n",
        "SARIMA_result_df = optimize_SARIMAX(train, None, order_list, d, D, s)\n",
        "\n",
        "# Display the result of the optimization\n",
        "print(SARIMA_result_df)\n"
      ],
      "metadata": {
        "id": "Q2wwCk7mIpFg",
        "trusted": true,
        "colab": {
          "base_uri": "https://localhost:8080/",
          "height": 292,
          "referenced_widgets": [
            "39c89984e2204144b474aef97346a41f",
            "ef81d03d7dad492d8e6a7e04cc2ce35e",
            "b88e89d8e612448395f09f0f8399b1de",
            "5e3174e138dc4cf5a1e3a41081cdcd48",
            "d45708d1d8a1455cbe11b54cdc7e6294",
            "0ed8523cb483449c957b6b6fb7e20fc1",
            "4af7fb347c444ad18f80dc22db1b4c0d",
            "dfec02a319cb4794a42e1bae3bd3383b",
            "93730d697f534deabc2d341adbc03537",
            "54dcb12b3d954fe0a0f2184e4b7fb888",
            "30a44d5d98c543f0910237f8b320ca69"
          ]
        },
        "outputId": "c40ed1e1-faee-43ed-d06f-a862077f613f"
      },
      "execution_count": 14,
      "outputs": [
        {
          "data": {
            "application/vnd.jupyter.widget-view+json": {
              "model_id": "39c89984e2204144b474aef97346a41f",
              "version_major": 2,
              "version_minor": 0
            },
            "text/plain": [
              "  0%|          | 0/625 [00:00<?, ?it/s]"
            ]
          },
          "metadata": {},
          "output_type": "display_data"
        },
        {
          "output_type": "stream",
          "name": "stdout",
          "text": [
            "        (p,q,P,Q)         AIC\n",
            "0    (3, 1, 1, 3)  270.951096\n",
            "1    (2, 4, 1, 3)  271.218671\n",
            "2    (3, 3, 1, 3)  271.428202\n",
            "3    (4, 1, 1, 3)  272.145292\n",
            "4    (0, 4, 1, 3)  272.152380\n",
            "..            ...         ...\n",
            "620  (0, 0, 2, 4)  353.229070\n",
            "621  (0, 0, 0, 1)  354.751719\n",
            "622  (0, 0, 4, 4)  356.412600\n",
            "623  (0, 0, 1, 0)  357.173706\n",
            "624  (0, 0, 0, 0)  357.531871\n",
            "\n",
            "[625 rows x 2 columns]\n"
          ]
        }
      ],
      "id": "Q2wwCk7mIpFg"
    },
    {
      "cell_type": "markdown",
      "source": [
        "Once the function is finished, the result shows that the minimum AIC is achieved with\n",
        "p = 2, q = 3, P = 1, and Q = 3. Therefore, the optimal model is a SARIMA(2,1,3)(1,1,3)12\n",
        "model."
      ],
      "metadata": {
        "id": "rSwlY5ZPxhTA"
      },
      "id": "rSwlY5ZPxhTA"
    },
    {
      "cell_type": "code",
      "source": [
        "# Create a SARIMA model object with order (2, 1, 3) for the non-seasonal component\n",
        "# and seasonal order (1, 1, 3, 12) for the seasonal component\n",
        "# with simple_differencing set to False\n",
        "model = SARIMAX(train, order=(2,1,3), seasonal_order=(1,1,3,12), simple_differencing=False)\n",
        "\n",
        "# Fit the SARIMA model to the training data, setting disp=False to suppress output\n",
        "fit = model.fit(disp=False)\n",
        "\n",
        "# Print a summary of the SARIMA model fit\n",
        "print(fit.summary())\n"
      ],
      "metadata": {
        "id": "wOE4krkqIpFk",
        "trusted": true,
        "colab": {
          "base_uri": "https://localhost:8080/"
        },
        "outputId": "8700cbb2-f876-4d5a-b919-a4134fc0f2a6"
      },
      "execution_count": 15,
      "outputs": [
        {
          "output_type": "stream",
          "name": "stdout",
          "text": [
            "                                     SARIMAX Results                                      \n",
            "==========================================================================================\n",
            "Dep. Variable:                                  y   No. Observations:                  168\n",
            "Model:             SARIMAX(2, 1, 3)x(1, 1, 3, 12)   Log Likelihood                -128.117\n",
            "Date:                            Tue, 07 Feb 2023   AIC                            276.234\n",
            "Time:                                    04:19:10   BIC                            306.668\n",
            "Sample:                                         0   HQIC                           288.596\n",
            "                                            - 168                                         \n",
            "Covariance Type:                              opg                                         \n",
            "==============================================================================\n",
            "                 coef    std err          z      P>|z|      [0.025      0.975]\n",
            "------------------------------------------------------------------------------\n",
            "ar.L1         -1.1310      0.055    -20.745      0.000      -1.238      -1.024\n",
            "ar.L2         -0.9658      0.064    -15.116      0.000      -1.091      -0.841\n",
            "ma.L1          0.3381      0.097      3.470      0.001       0.147       0.529\n",
            "ma.L2          0.0982      0.102      0.964      0.335      -0.101       0.298\n",
            "ma.L3         -0.6933      0.094     -7.369      0.000      -0.878      -0.509\n",
            "ar.S.L12       0.9605      0.227      4.223      0.000       0.515       1.406\n",
            "ma.S.L12      -1.3723      0.413     -3.326      0.001      -2.181      -0.564\n",
            "ma.S.L24       0.2679      0.244      1.099      0.272      -0.210       0.746\n",
            "ma.S.L36       0.1805      0.117      1.543      0.123      -0.049       0.410\n",
            "sigma2         0.2808      0.056      5.029      0.000       0.171       0.390\n",
            "===================================================================================\n",
            "Ljung-Box (L1) (Q):                   0.61   Jarque-Bera (JB):                11.88\n",
            "Prob(Q):                              0.43   Prob(JB):                         0.00\n",
            "Heteroskedasticity (H):               4.92   Skew:                            -0.26\n",
            "Prob(H) (two-sided):                  0.00   Kurtosis:                         4.25\n",
            "===================================================================================\n",
            "\n",
            "Warnings:\n",
            "[1] Covariance matrix calculated using the outer product of gradients (complex-step).\n"
          ]
        }
      ],
      "id": "wOE4krkqIpFk"
    },
    {
      "cell_type": "markdown",
      "source": [
        "Now that we have the optimal model, we must analyze its residuals to determine\n",
        "whether the model can be used or not. This will depend on the residuals, which should\n",
        "behave like white noise. If that is the case, the model can be used for forecasting.\n",
        "We can fit the model and use the plot_diagnostics method to qualitatively analyze\n",
        "its residuals."
      ],
      "metadata": {
        "id": "oLf-vyY4xhU7"
      },
      "id": "oLf-vyY4xhU7"
    },
    {
      "cell_type": "code",
      "source": [
        "# Plot the diagnostics of the SARIMA model fit\n",
        "fit.plot_diagnostics(figsize=(10,8));\n",
        "\n"
      ],
      "metadata": {
        "id": "sESYxI43IpFn",
        "trusted": true,
        "colab": {
          "base_uri": "https://localhost:8080/",
          "height": 513
        },
        "outputId": "bf8f8756-e566-4119-cec3-3a59c677fd25"
      },
      "execution_count": 16,
      "outputs": [
        {
          "output_type": "display_data",
          "data": {
            "text/plain": [
              "<Figure size 720x576 with 4 Axes>"
            ],
            "image/png": "[encoded data removed]"
          },
          "metadata": {
            "needs_background": "light"
          }
        }
      ],
      "id": "sESYxI43IpFn"
    },
    {
      "cell_type": "markdown",
      "source": [
        "Visual diagnostics of the residuals. In the top-left plot, the residuals have no trend over time,\n",
        "and the variance seems constant. At the top right, the distribution of the residuals is very close to a\n",
        "normal distribution. This is further supported by the Q-Q plot at the bottom left, which displays a fairly\n",
        "straight line that sits on y = x. Finally, the correlogram at the bottom right shows no significant\n",
        "coefficients after lag 0, just like white noise."
      ],
      "metadata": {
        "id": "TkJaGSCTxhVV"
      },
      "id": "TkJaGSCTxhVV"
    },
    {
      "cell_type": "markdown",
      "source": [
        "The result shows that we can conclude from this qualitative analysis\n",
        "that the residuals closely resemble white noise."
      ],
      "metadata": {
        "id": "J6iVoI5AxhVd"
      },
      "id": "J6iVoI5AxhVd"
    },
    {
      "cell_type": "markdown",
      "source": [
        "The next step is to perform the Ljung-Box test, which determines whether the\n",
        "residuals are independent and uncorrelated. The null hypothesis of the Ljung-Box\n",
        "test states that the residuals are uncorrelated, just like white noise. Thus, we want\n",
        "the test to return p-values larger than 0.05. In that case, we cannot reject the null\n",
        "hypothesis and conclude that our residuals are independent, and therefore behave\n",
        "like white noise."
      ],
      "metadata": {
        "id": "_dug3N5rxhVn"
      },
      "id": "_dug3N5rxhVn"
    },
    {
      "cell_type": "code",
      "source": [
        "# Obtain the residuals from the SARIMA model fit\n",
        "residuals = fit.resid\n",
        "\n",
        "# Calculate the Ljung-Box test statistics and p-values for the residuals\n",
        "# for lags 1 to 10 (inclusive)\n",
        "ljung_box, p_values = acorr_ljungbox(residuals, lags=range(1, 11))\n",
        "\n",
        "# Print the p-values\n",
        "print(p_values)\n"
      ],
      "metadata": {
        "id": "9OkceMQeIpFs",
        "trusted": true,
        "colab": {
          "base_uri": "https://localhost:8080/"
        },
        "outputId": "29da1569-869b-4f33-b9ca-5159b1543918"
      },
      "execution_count": 28,
      "outputs": [
        {
          "output_type": "stream",
          "name": "stdout",
          "text": [
            "[0.23220664 0.42980045 0.52106849 0.43439226 0.5015316  0.62847942\n",
            " 0.24140818 0.32385512 0.40063231 0.49401222]\n"
          ]
        }
      ],
      "id": "9OkceMQeIpFs"
    },
    {
      "cell_type": "markdown",
      "source": [
        "In this case, all the p-values are above 0.05, so we do not reject the null hypothesis, and\n",
        "we conclude that the residuals are independent and uncorrelated. We can conclude\n",
        "that the model can used for forecasting."
      ],
      "metadata": {
        "id": "nCGLAHZ4xhVx"
      },
      "id": "nCGLAHZ4xhVx"
    },
    {
      "cell_type": "markdown",
      "source": [
        "## Forecasting "
      ],
      "metadata": {
        "id": "HdKKynfmIpFw"
      },
      "id": "HdKKynfmIpFw"
    },
    {
      "cell_type": "markdown",
      "source": [
        "We have a model that can be used for forecasting, so we’ll now perform rolling forecasts\n",
        "of 12 months over the test set of 36 months. That way we’ll have a better evaluation\n",
        "of our model’s performance, as testing on fewer data points might lead to skewed\n",
        "results. We’ll use the naive seasonal forecast as a baseline; it will simply take the last 12\n",
        "months of data and use them as forecasts for the next 12 months.\n",
        "We’ll first define the rolling_forecast function to generate the predictions over the\n",
        "entire test set with a window of 12 months. The function is shown in the following listing."
      ],
      "metadata": {
        "id": "0JEnWEvaxhXs"
      },
      "id": "0JEnWEvaxhXs"
    },
    {
      "cell_type": "code",
      "source": [
        "def rolling_forecast(df: pd.DataFrame, train_len: int, horizon: int, window: int, method: str) -> list:\n",
        "    \n",
        "    # Total length of the prediction window\n",
        "    total_len = train_len + horizon\n",
        "    \n",
        "    # Index of the end of the training data\n",
        "    end_idx = train_len\n",
        "    \n",
        "    if method == 'last_season':\n",
        "        # Initialize a list to store the predictions\n",
        "        pred_last_season = []\n",
        "        \n",
        "        # Loop over the window of the prediction horizon\n",
        "        for i in range(train_len, total_len, window):\n",
        "            # Get the last season values\n",
        "            last_season = df['y'][i-window:i].values\n",
        "            # Extend the predictions with the last season values\n",
        "            pred_last_season.extend(last_season)\n",
        "            \n",
        "        # Return the predictions\n",
        "        return pred_last_season\n",
        "    \n",
        "    elif method == 'SARIMA':\n",
        "        # Initialize a list to store the predictions\n",
        "        pred_SARIMA = []\n",
        "        \n",
        "        # Loop over the window of the prediction horizon\n",
        "        for i in range(train_len, total_len, window):\n",
        "            # Fit the SARIMA model on the training data\n",
        "            model = SARIMAX(df['y'][:i], order=(2,1,3), seasonal_order=(1,1,3,12), simple_differencing=False)\n",
        "            res = model.fit(disp=False)\n",
        "            # Get the out-of-sample (OOS) predictions\n",
        "            predictions = res.get_prediction(0, i + window - 1)\n",
        "            oos_pred = predictions.predicted_mean.iloc[-window:]\n",
        "            # Extend the predictions with the OOS predictions\n",
        "            pred_SARIMA.extend(oos_pred)\n",
        "            \n",
        "        # Return the predictions\n",
        "        return pred_SARIMA\n"
      ],
      "metadata": {
        "id": "43uA9xt9IpF1",
        "trusted": true
      },
      "execution_count": 29,
      "outputs": [],
      "id": "43uA9xt9IpF1"
    },
    {
      "cell_type": "markdown",
      "source": [
        "Next, we’ll create a DataFrame to hold the predictions as well as the actual values. This\n",
        "is simply a copy of the test set."
      ],
      "metadata": {
        "id": "c38AFAB7xhYO"
      },
      "id": "c38AFAB7xhYO"
    },
    {
      "cell_type": "code",
      "source": [
        "# Slice the dataframe to start from the 168th row\n",
        "pred_df = df[168:]\n",
        "\n",
        "# Print the sliced dataframe\n",
        "print(pred_df)\n"
      ],
      "metadata": {
        "id": "acAw2lUmIpF6",
        "trusted": true,
        "colab": {
          "base_uri": "https://localhost:8080/"
        },
        "outputId": "bb5e7621-e5f6-425b-aa02-750056dd1549"
      },
      "execution_count": 19,
      "outputs": [
        {
          "output_type": "stream",
          "name": "stdout",
          "text": [
            "             ds          y\n",
            "168  2005-07-01  15.829550\n",
            "169  2005-08-01  17.554701\n",
            "170  2005-09-01  18.100864\n",
            "171  2005-10-01  17.496668\n",
            "172  2005-11-01  19.347265\n",
            "173  2005-12-01  20.031291\n",
            "174  2006-01-01  23.486694\n",
            "175  2006-02-01  12.536987\n",
            "176  2006-03-01  15.467018\n",
            "177  2006-04-01  14.233539\n",
            "178  2006-05-01  17.783058\n",
            "179  2006-06-01  16.291602\n",
            "180  2006-07-01  16.980282\n",
            "181  2006-08-01  18.612189\n",
            "182  2006-09-01  16.623343\n",
            "183  2006-10-01  21.430241\n",
            "184  2006-11-01  23.575517\n",
            "185  2006-12-01  23.334206\n",
            "186  2007-01-01  28.038383\n",
            "187  2007-02-01  16.763869\n",
            "188  2007-03-01  19.792754\n",
            "189  2007-04-01  16.427305\n",
            "190  2007-05-01  21.000742\n",
            "191  2007-06-01  20.681002\n",
            "192  2007-07-01  21.834890\n",
            "193  2007-08-01  23.930204\n",
            "194  2007-09-01  22.930357\n",
            "195  2007-10-01  23.263340\n",
            "196  2007-11-01  25.250030\n",
            "197  2007-12-01  25.806090\n",
            "198  2008-01-01  29.665356\n",
            "199  2008-02-01  21.654285\n",
            "200  2008-03-01  18.264945\n",
            "201  2008-04-01  23.107677\n",
            "202  2008-05-01  22.912510\n",
            "203  2008-06-01  19.431740\n"
          ]
        }
      ],
      "id": "acAw2lUmIpF6"
    },
    {
      "cell_type": "markdown",
      "source": [
        "Now we can define the parameters to be used for the rolling_forecast function.\n",
        "The dataset contains 204 rows, and the test set contains 36 data points, which means\n",
        "the length of the training set is 204 – 36 = 168. The horizon is 36, since our test set\n",
        "contains 36 months of data. Finally, the window is 12 months, as we are forecasting 12\n",
        "months at a time.\n",
        "With those values set, we can record the predictions coming from our baseline,\n",
        "which is a naive seasonal forecast. It simply takes the last 12 months of observed data\n",
        "and uses them as forecasts for the next 12 months."
      ],
      "metadata": {
        "id": "ecZWk4anxhYW"
      },
      "id": "ecZWk4anxhYW"
    },
    {
      "cell_type": "code",
      "source": [
        "# Define the length of the training data\n",
        "TRAIN_LEN = 168\n",
        "\n",
        "# Define the length of the prediction horizon\n",
        "HORIZON = 36\n",
        "\n",
        "# Define the size of the rolling window\n",
        "WINDOW = 12\n",
        "\n",
        "# Add a new column to the sliced dataframe with the predictions from the \"last_season\" method\n",
        "pred_df['last_season'] = rolling_forecast(df, TRAIN_LEN, HORIZON, WINDOW, 'last_season')\n",
        "\n",
        "# Print the updated sliced dataframe\n",
        "print(pred_df)\n"
      ],
      "metadata": {
        "id": "ociMLiDYIpGK",
        "trusted": true,
        "colab": {
          "base_uri": "https://localhost:8080/"
        },
        "outputId": "b21e1a71-c4e2-41b7-86cc-07b905a042e5"
      },
      "execution_count": 20,
      "outputs": [
        {
          "output_type": "stream",
          "name": "stdout",
          "text": [
            "             ds          y  last_season\n",
            "168  2005-07-01  15.829550    15.339097\n",
            "169  2005-08-01  17.554701    15.370764\n",
            "170  2005-09-01  18.100864    16.142005\n",
            "171  2005-10-01  17.496668    16.685754\n",
            "172  2005-11-01  19.347265    17.636728\n",
            "173  2005-12-01  20.031291    18.869325\n",
            "174  2006-01-01  23.486694    20.778723\n",
            "175  2006-02-01  12.536987    12.154552\n",
            "176  2006-03-01  15.467018    13.402392\n",
            "177  2006-04-01  14.233539    14.459239\n",
            "178  2006-05-01  17.783058    14.795102\n",
            "179  2006-06-01  16.291602    15.705248\n",
            "180  2006-07-01  16.980282    15.829550\n",
            "181  2006-08-01  18.612189    17.554701\n",
            "182  2006-09-01  16.623343    18.100864\n",
            "183  2006-10-01  21.430241    17.496668\n",
            "184  2006-11-01  23.575517    19.347265\n",
            "185  2006-12-01  23.334206    20.031291\n",
            "186  2007-01-01  28.038383    23.486694\n",
            "187  2007-02-01  16.763869    12.536987\n",
            "188  2007-03-01  19.792754    15.467018\n",
            "189  2007-04-01  16.427305    14.233539\n",
            "190  2007-05-01  21.000742    17.783058\n",
            "191  2007-06-01  20.681002    16.291602\n",
            "192  2007-07-01  21.834890    16.980282\n",
            "193  2007-08-01  23.930204    18.612189\n",
            "194  2007-09-01  22.930357    16.623343\n",
            "195  2007-10-01  23.263340    21.430241\n",
            "196  2007-11-01  25.250030    23.575517\n",
            "197  2007-12-01  25.806090    23.334206\n",
            "198  2008-01-01  29.665356    28.038383\n",
            "199  2008-02-01  21.654285    16.763869\n",
            "200  2008-03-01  18.264945    19.792754\n",
            "201  2008-04-01  23.107677    16.427305\n",
            "202  2008-05-01  22.912510    21.000742\n",
            "203  2008-06-01  19.431740    20.681002\n"
          ]
        }
      ],
      "id": "ociMLiDYIpGK"
    },
    {
      "cell_type": "markdown",
      "source": [
        "Next, we’ll compute the forecasts from the SARIMA model."
      ],
      "metadata": {
        "id": "i9PgEunlxhaM"
      },
      "id": "i9PgEunlxhaM"
    },
    {
      "cell_type": "code",
      "source": [
        "# Add a new column to the sliced dataframe with the predictions from the \"SARIMA\" method\n",
        "pred_df['SARIMA'] = rolling_forecast(df, TRAIN_LEN, HORIZON, WINDOW, 'SARIMA')\n",
        "\n",
        "# Print the updated sliced dataframe\n",
        "print(pred_df)\n"
      ],
      "metadata": {
        "id": "rJiG7JBLIpGO",
        "trusted": true,
        "colab": {
          "base_uri": "https://localhost:8080/"
        },
        "outputId": "c5add26b-8191-4ab8-8e75-4988d87f3f76"
      },
      "execution_count": 21,
      "outputs": [
        {
          "output_type": "stream",
          "name": "stdout",
          "text": [
            "             ds          y  last_season     SARIMA\n",
            "168  2005-07-01  15.829550    15.339097  16.748738\n",
            "169  2005-08-01  17.554701    15.370764  16.684522\n",
            "170  2005-09-01  18.100864    16.142005  17.189678\n",
            "171  2005-10-01  17.496668    16.685754  18.088524\n",
            "172  2005-11-01  19.347265    17.636728  18.657014\n",
            "173  2005-12-01  20.031291    18.869325  19.951105\n",
            "174  2006-01-01  23.486694    20.778723  22.073787\n",
            "175  2006-02-01  12.536987    12.154552  13.744533\n",
            "176  2006-03-01  15.467018    13.402392  15.087160\n",
            "177  2006-04-01  14.233539    14.459239  15.657503\n",
            "178  2006-05-01  17.783058    14.795102  16.674500\n",
            "179  2006-06-01  16.291602    15.705248  16.891570\n",
            "180  2006-07-01  16.980282    15.829550  17.746725\n",
            "181  2006-08-01  18.612189    17.554701  18.333670\n",
            "182  2006-09-01  16.623343    18.100864  18.815253\n",
            "183  2006-10-01  21.430241    17.496668  19.450138\n",
            "184  2006-11-01  23.575517    19.347265  20.241754\n",
            "185  2006-12-01  23.334206    20.031291  21.124248\n",
            "186  2007-01-01  28.038383    23.486694  24.888871\n",
            "187  2007-02-01  16.763869    12.536987  14.582831\n",
            "188  2007-03-01  19.792754    15.467018  16.763146\n",
            "189  2007-04-01  16.427305    14.233539  16.201673\n",
            "190  2007-05-01  21.000742    17.783058  19.019786\n",
            "191  2007-06-01  20.681002    16.291602  17.825290\n",
            "192  2007-07-01  21.834890    16.980282  21.019813\n",
            "193  2007-08-01  23.930204    18.612189  22.369440\n",
            "194  2007-09-01  22.930357    16.623343  20.621963\n",
            "195  2007-10-01  23.263340    21.430241  25.142440\n",
            "196  2007-11-01  25.250030    23.575517  25.800514\n",
            "197  2007-12-01  25.806090    23.334206  26.786101\n",
            "198  2008-01-01  29.665356    28.038383  30.598627\n",
            "199  2008-02-01  21.654285    16.763869  19.686397\n",
            "200  2008-03-01  18.264945    19.792754  22.341475\n",
            "201  2008-04-01  23.107677    16.427305  19.879312\n",
            "202  2008-05-01  22.912510    21.000742  24.035264\n",
            "203  2008-06-01  19.431740    20.681002  23.159937\n"
          ]
        }
      ],
      "id": "rJiG7JBLIpGO"
    },
    {
      "cell_type": "markdown",
      "source": [
        "At this point, pred_df contains the actual values, the forecasts from the naive seasonal\n",
        "method, and the forecasts from the SARIMA model. We can use this to visualize our forecasts against the actual values. For clarity, we’ll limit the x-axis to zoom in on the\n",
        "test period. The resulting plot is shown below."
      ],
      "metadata": {
        "id": "yavCYxZSxhan"
      },
      "id": "yavCYxZSxhan"
    },
    {
      "cell_type": "code",
      "source": [
        "# Initialize a figure and axis for plotting\n",
        "fig, ax = plt.subplots()\n",
        "\n",
        "# Plot the actual values of \"y\" from the original dataframe\n",
        "ax.plot(df.y)\n",
        "\n",
        "# Plot the actual values of \"y\" from the sliced dataframe in blue\n",
        "ax.plot(pred_df.y, 'b-', label='actual')\n",
        "\n",
        "# Plot the predictions from the \"last_season\" method in red with dotted line\n",
        "ax.plot(pred_df.last_season, 'r:', label='naive seasonal')\n",
        "\n",
        "# Plot the predictions from the \"SARIMA\" method in black with a dashed line\n",
        "ax.plot(pred_df.SARIMA, 'k--', label='SARIMA')\n",
        "\n",
        "# Set the x-axis label as \"Date\"\n",
        "ax.set_xlabel('Date')\n",
        "\n",
        "# Set the y-axis label as \"Number of anti-diabetic drug prescriptions\"\n",
        "ax.set_ylabel('Number of anti-diabetic drug prescriptions')\n",
        "\n",
        "# Shade the area from the 168th row to the 204th row in gray with 20% opacity\n",
        "ax.axvspan(168, 204, color='#808080', alpha=0.2)\n",
        "\n",
        "# Add a legend to the top left of the plot\n",
        "ax.legend(loc=2)\n",
        "\n",
        "# Set the x-ticks to be spaced every 12 rows, labeled with years from 1992 to 2009\n",
        "plt.xticks(np.arange(6, 203, 12), np.arange(1992, 2009, 1))\n",
        "\n",
        "# Set the x-axis limits from the 120th row to the 204th row\n",
        "plt.xlim(120, 204)\n",
        "\n",
        "# Automatically format the x-axis tick labels to be angled to avoid overlap\n",
        "fig.autofmt_xdate()\n",
        "\n",
        "# Adjust the layout to ensure everything fits nicely within the plot\n",
        "plt.tight_layout()\n"
      ],
      "metadata": {
        "id": "--moRLtpIpGS",
        "trusted": true,
        "colab": {
          "base_uri": "https://localhost:8080/",
          "height": 289
        },
        "outputId": "d79ff376-efd9-4ca8-c325-2453bee1bd6c"
      },
      "execution_count": 30,
      "outputs": [
        {
          "output_type": "display_data",
          "data": {
            "text/plain": [
              "<Figure size 432x288 with 1 Axes>"
            ],
            "image/png": "[encoded data removed]"
          },
          "metadata": {
            "needs_background": "light"
          }
        }
      ],
      "id": "--moRLtpIpGS"
    },
    {
      "cell_type": "markdown",
      "source": [
        "From the resulting plot we can see that the predictions from the SARIMA model (the dashed\n",
        "line) follow the actual values more closely than the naive seasonal forecasts (the dotted\n",
        "line). We can therefore intuitively expect the SARIMA model to have performed\n",
        "better than the baseline method."
      ],
      "metadata": {
        "id": "oQWb5LvTxhbk"
      },
      "id": "oQWb5LvTxhbk"
    },
    {
      "cell_type": "markdown",
      "source": [
        "## Evaluate "
      ],
      "metadata": {
        "id": "oMwvEpDlIpGW"
      },
      "id": "oMwvEpDlIpGW"
    },
    {
      "cell_type": "markdown",
      "source": [
        "To evaluate the performance quantitatively, we’ll use the mean absolute percentage\n",
        "error (MAPE). The MAPE is easy to interpret, as it returns a percentage error."
      ],
      "metadata": {
        "id": "VFs-ImZxxhb4"
      },
      "id": "VFs-ImZxxhb4"
    },
    {
      "cell_type": "code",
      "source": [
        "def mape(y_true, y_pred):\n",
        "    \"\"\"\n",
        "    Calculates the mean absolute percentage error (MAPE) between two arrays.\n",
        "    \n",
        "    Parameters:\n",
        "    y_true (array-like): The true values\n",
        "    y_pred (array-like): The predicted values\n",
        "    \n",
        "    Returns:\n",
        "    float: MAPE between y_true and y_pred\n",
        "    \"\"\"\n",
        "    return np.mean(np.abs((y_true - y_pred) / y_true)) * 100\n"
      ],
      "metadata": {
        "id": "jfDNrD0rIpGZ",
        "trusted": true
      },
      "execution_count": 31,
      "outputs": [],
      "id": "jfDNrD0rIpGZ"
    },
    {
      "cell_type": "code",
      "source": [
        "# Calculate MAPE for the naive seasonal method and SARIMA method\n",
        "mape_naive_seasonal = mape(pred_df.y, pred_df.last_season)\n",
        "mape_SARIMA = mape(pred_df.y, pred_df.SARIMA)\n",
        "\n",
        "# Print the MAPE values\n",
        "print(\"MAPE for naive seasonal method: {:.2f}%\".format(mape_naive_seasonal))\n",
        "print(\"MAPE for SARIMA method: {:.2f}%\".format(mape_SARIMA))\n"
      ],
      "metadata": {
        "id": "GZyAaia5IpGc",
        "trusted": true,
        "colab": {
          "base_uri": "https://localhost:8080/"
        },
        "outputId": "2d249540-a176-4a9a-9df0-682ad68e5786"
      },
      "execution_count": 32,
      "outputs": [
        {
          "output_type": "stream",
          "name": "stdout",
          "text": [
            "MAPE for naive seasonal method: 12.69%\n",
            "MAPE for SARIMA method: 7.90%\n"
          ]
        }
      ],
      "id": "GZyAaia5IpGc"
    },
    {
      "cell_type": "markdown",
      "source": [
        "This prints out a MAPE of 12.69% for the baseline and 7.90% for the SARIMA model.\n",
        "We can optionally plot the MAPE of each model in a bar chart for better visualization of the result."
      ],
      "metadata": {
        "id": "_8P1ekjHxhdL"
      },
      "id": "_8P1ekjHxhdL"
    },
    {
      "cell_type": "code",
      "source": [
        "# Create subplots and assign them to fig and ax\n",
        "fig, ax = plt.subplots()\n",
        "\n",
        "# Define the x-axis labels\n",
        "x = ['naive seasonal', 'SARIMA(2,1,3)(1,1,3,12)']\n",
        "\n",
        "# Define the y-axis values\n",
        "y = [mape_naive_seasonal, mape_SARIMA]\n",
        "\n",
        "# Plot the bar chart with width 0.4\n",
        "ax.bar(x, y, width=0.4)\n",
        "\n",
        "# Set the x-axis label\n",
        "ax.set_xlabel('Models')\n",
        "\n",
        "# Set the y-axis label\n",
        "ax.set_ylabel('MAPE (%)')\n",
        "\n",
        "# Set the y-axis limit to 0 to 15\n",
        "ax.set_ylim(0, 15)\n",
        "\n",
        "# Add the value on top of each bar\n",
        "for index, value in enumerate(y):\n",
        "    plt.text(x=index, y=value + 1, s=str(round(value,2)), ha='center')\n",
        "\n",
        "# Adjust the layout\n",
        "plt.tight_layout()\n"
      ],
      "metadata": {
        "id": "vl5tRbGeIpGj",
        "trusted": true,
        "colab": {
          "base_uri": "https://localhost:8080/",
          "height": 297
        },
        "outputId": "34c56ee5-d6b5-40d5-cf03-2f520f2be4ca"
      },
      "execution_count": 33,
      "outputs": [
        {
          "output_type": "display_data",
          "data": {
            "text/plain": [
              "<Figure size 432x288 with 1 Axes>"
            ],
            "image/png": "[encoded data removed]"
          },
          "metadata": {
            "needs_background": "light"
          }
        }
      ],
      "id": "vl5tRbGeIpGj"
    },
    {
      "cell_type": "markdown",
      "source": [
        "Since\n",
        "the MAPE of the SARIMA model is lower than the MAPE of the baseline, we can\n",
        "conclude that the SARIMA model should be used to forecast the number of antidiabetic"
      ],
      "metadata": {
        "id": "P1OY7sb7xhdW"
      },
      "id": "P1OY7sb7xhdW"
    },
    {
      "cell_type": "code",
      "source": [],
      "metadata": {
        "id": "PU_XRGJoxheF"
      },
      "execution_count": 25,
      "outputs": [],
      "id": "PU_XRGJoxheF"
    }
  ]
}